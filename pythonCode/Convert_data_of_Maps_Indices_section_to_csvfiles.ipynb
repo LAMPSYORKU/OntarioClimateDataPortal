{
 "cells": [
  {
   "cell_type": "markdown",
   "metadata": {},
   "source": [
    "# Add columns' name for the mapping data (Climate Indices)\n",
    "* This program is used to rewrite the data for Maps section in the OCDP data portal and add the column names\n",
    "* The outputs are exported to csv file. Thus, the data become easily to analyze using any software  \n",
    "* Corresponding to the [Maps section](http://lamps.math.yorku.ca/OntarioClimate/index_app_maps.htm#/)\n",
    "* If users clone the github project to their local machine, please don't run this code anymore. Because we have already done this.\n",
    "                                      "
   ]
  },
  {
   "cell_type": "code",
   "execution_count": 1,
   "metadata": {},
   "outputs": [],
   "source": [
    "import pandas as pd"
   ]
  },
  {
   "cell_type": "markdown",
   "metadata": {},
   "source": [
    "```\n",
    "Define file names: varName + \n",
    "                  _Ann(ual)+\n",
    "                  _8964Pts(grid points)_RCPs(2.6, 4.5, 6.0, 8.5)+\n",
    "                  _50s80s(2050s,2080s)+\n",
    "                  _Diffs(differences)+\n",
    "                  _EC (reference data is ERA-Interim data for 1986-2005) \n",
    "data columns RCPs Percentiles of change (5,25,50,75,95), and periods (2050s and 2080s), Reference period\n",
    "```"
   ]
  },
  {
   "cell_type": "code",
   "execution_count": 2,
   "metadata": {},
   "outputs": [],
   "source": [
    "varNames = ['CDD','Cold_day','Cold_night','DTR','FD','GSL','HDD','Hot_day','Hot_night','HWDI_days','HWDI_period',\n",
    "            'HWDI_strength','ID','j111','j211','pr95pDays','pr95pTOT','pr99pDays','pr99pTOT','prCDD','PRCPTOT',\n",
    "            'prCWD','R1mm','R5mm','R10mm','R20mm','R25mm','RX1day','RX5day','SDII','SU','tnCSDI','TNn','TNx',\n",
    "            'TR','TXn','TXx','txWSDI']\n",
    "colNames =['id','Longitude','Latitude',\n",
    "           'RCP85_P5_2050s','RCP85_P25_2050s','RCP85_P50_2050s','RCP85_P75_2050s','RCP85_P95_2050s',\n",
    "           'RCP60_P5_2050s','RCP60_P25_2050s','RCP60_P50_2050s','RCP60_P75_2050s','RCP60_P95_2050s',\n",
    "           'RCP45_P5_2050s','RCP45_P25_2050s','RCP45_P50_2050s','RCP45_P75_2050s','RCP45_P95_2050s',\n",
    "           'RCP26_P5_2050s','RCP26_P25_2050s','RCP26_P50_2050s','RCP26_P75_2050s','RCP26_P95_2050s',\n",
    "           'RCP85_P5_2080s','RCP85_P25_2080s','RCP85_P50_2080s','RCP85_P75_2080s','RCP85_P95_2080s',\n",
    "           'RCP60_P5_2080s','RCP60_P25_2080s','RCP60_P50_2080s','RCP60_P75_2080s','RCP60_P95_2080s',\n",
    "           'RCP45_P5_2080s','RCP45_P25_2080s','RCP45_P50_2080s','RCP45_P75_2080s','RCP45_P95_2080s',\n",
    "           'RCP26_P5_2080s','RCP26_P25_2080s','RCP26_P50_2080s','RCP26_P75_2080s','RCP26_P95_2080s',\n",
    "           'REF_1986_2005']"
   ]
  },
  {
   "cell_type": "markdown",
   "metadata": {},
   "source": [
    "*I comment the following part of code to avoid run this code again*"
   ]
  },
  {
   "cell_type": "code",
   "execution_count": 3,
   "metadata": {},
   "outputs": [],
   "source": [
    "# for varName in varNames:\n",
    "#     tmp = '../data_tmp/maps/indices/' + varName + '_Ann_8964Pts_RCPs_50s80s_Diffs_EC.csv'\n",
    "#     # rename the name of the two variables\n",
    "#     if(varName=='j111'):\n",
    "#         varName='GS_StartDay'\n",
    "#     if(varName=='j211'):\n",
    "#         varName='GS_EndDay'\n",
    "#     tmp1 = '../data/maps/indices/' + varName + '_Ann_8964Pts_RCPs_50s80s_Diffs_EC.csv'    \n",
    "#     try:\n",
    "#         data = pd.read_csv(tmp,header=None)\n",
    "#         data.columns = colNames\n",
    "#         data.to_csv(tmp1,index=False)\n",
    "#     except:\n",
    "#         print('File does not exist')  "
   ]
  }
 ],
 "metadata": {
  "kernelspec": {
   "display_name": "Python 3",
   "language": "python",
   "name": "python3"
  },
  "language_info": {
   "codemirror_mode": {
    "name": "ipython",
    "version": 3
   },
   "file_extension": ".py",
   "mimetype": "text/x-python",
   "name": "python",
   "nbconvert_exporter": "python",
   "pygments_lexer": "ipython3",
   "version": "3.7.4"
  }
 },
 "nbformat": 4,
 "nbformat_minor": 2
}
