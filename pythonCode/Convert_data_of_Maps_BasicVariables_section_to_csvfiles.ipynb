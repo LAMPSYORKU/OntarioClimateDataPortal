{
 "cells": [
  {
   "cell_type": "markdown",
   "metadata": {},
   "source": [
    "# Add columns' name for the mapping data (Basic variables)\n",
    "* This program is used to rewrite the data for Maps section of the OCDP data portal and add the column names\n",
    "* The outputs are exported to csv file. Thus, the data become easily to analyze using any software\n",
    "* Corresponding to the [Maps section](http://lamps.math.yorku.ca/OntarioClimate/index_app_maps.htm#/)\n",
    "* If users clone the github project to their local machine, please don't run this code anymore. Because we have already done this."
   ]
  },
  {
   "cell_type": "code",
   "execution_count": 13,
   "metadata": {},
   "outputs": [],
   "source": [
    "import pandas as pd"
   ]
  },
  {
   "cell_type": "code",
   "execution_count": 14,
   "metadata": {},
   "outputs": [],
   "source": [
    "varNames = ['Tm','Tx','Tn','Pr']\n",
    "MonSeaAnn = ['Jan','Feb','Mar','Apr','May','Jun','Jul','Aug','Sep','Oct','Nov','Dec','Spr','Sum','Aut','Win','Ann']\n",
    "colNames =['id','Longitude','Latitude',\n",
    "           'RCP85_P5_2050s','RCP85_P25_2050s','RCP85_P50_2050s','RCP85_P75_2050s','RCP85_P95_2050s',\n",
    "           'RCP60_P5_2050s','RCP60_P25_2050s','RCP60_P50_2050s','RCP60_P75_2050s','RCP60_P95_2050s',\n",
    "           'RCP45_P5_2050s','RCP45_P25_2050s','RCP45_P50_2050s','RCP45_P75_2050s','RCP45_P95_2050s',\n",
    "           'RCP26_P5_2050s','RCP26_P25_2050s','RCP26_P50_2050s','RCP26_P75_2050s','RCP26_P95_2050s',\n",
    "           'RCP85_P5_2080s','RCP85_P25_2080s','RCP85_P50_2080s','RCP85_P75_2080s','RCP85_P95_2080s',\n",
    "           'RCP60_P5_2080s','RCP60_P25_2080s','RCP60_P50_2080s','RCP60_P75_2080s','RCP60_P95_2080s',\n",
    "           'RCP45_P5_2080s','RCP45_P25_2080s','RCP45_P50_2080s','RCP45_P75_2080s','RCP45_P95_2080s',\n",
    "           'RCP26_P5_2080s','RCP26_P25_2080s','RCP26_P50_2080s','RCP26_P75_2080s','RCP26_P95_2080s',\n",
    "           'REF_1986_2005']"
   ]
  },
  {
   "cell_type": "markdown",
   "metadata": {},
   "source": [
    "*If you clone the github project, don't run this code anymore*"
   ]
  },
  {
   "cell_type": "code",
   "execution_count": 15,
   "metadata": {},
   "outputs": [],
   "source": [
    "# for varName in varNames:\n",
    "#     for msa in MonSeaAnn:\n",
    "#         tmp = 'X:/AAZiwang/Paper/NatureDataDraft/Data2UpLoad/Maps/BasicVariables/' + \\\n",
    "#             varName + \\\n",
    "#             '_8964Pts_RCPs_' + \\\n",
    "#             msa + \\\n",
    "#             '_50s80s_Diffs_ECandEC20YMean.csv'\n",
    "#         #print(tmp) \n",
    "#         tmp1 = '../data/maps/basicVariables/' + \\\n",
    "#             varName + \\\n",
    "#             '_8964Pts_RCPs_' + \\\n",
    "#             msa +  \\\n",
    "#             '_8964Pts_RCPs_50s80s_Diffs_EC.csv'\n",
    "#         #print(tmp1)    \n",
    "#         try:\n",
    "#             data = pd.read_csv(tmp,header=None)\n",
    "#             data.columns = colNames\n",
    "#             data.to_csv(tmp1,index=False)\n",
    "#         except:\n",
    "#             print('File does not exist')  "
   ]
  }
 ],
 "metadata": {
  "kernelspec": {
   "display_name": "Python 3",
   "language": "python",
   "name": "python3"
  },
  "language_info": {
   "codemirror_mode": {
    "name": "ipython",
    "version": 3
   },
   "file_extension": ".py",
   "mimetype": "text/x-python",
   "name": "python",
   "nbconvert_exporter": "python",
   "pygments_lexer": "ipython3",
   "version": "3.7.4"
  }
 },
 "nbformat": 4,
 "nbformat_minor": 2
}
